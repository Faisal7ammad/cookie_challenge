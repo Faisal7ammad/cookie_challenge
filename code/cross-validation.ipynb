{
 "cells": [
  {
   "cell_type": "markdown",
   "metadata": {
    "toc": true
   },
   "source": [
    "<h1>Table of Contents<span class=\"tocSkip\"></span></h1>\n",
    "<div class=\"toc\"><ul class=\"toc-item\"></ul></div>"
   ]
  },
  {
   "cell_type": "code",
   "execution_count": 1,
   "metadata": {
    "ExecuteTime": {
     "end_time": "2021-05-12T07:10:26.989688Z",
     "start_time": "2021-05-12T07:10:18.289298Z"
    }
   },
   "outputs": [],
   "source": [
    "%matplotlib inline\n",
    "\n",
    "import numpy as np\n",
    "import pandas as pd\n",
    "import matplotlib.pyplot as plt\n",
    "import seaborn as sns"
   ]
  },
  {
   "cell_type": "code",
   "execution_count": 94,
   "metadata": {
    "ExecuteTime": {
     "end_time": "2021-05-11T15:30:18.753024Z",
     "start_time": "2021-05-11T15:30:18.664285Z"
    }
   },
   "outputs": [
    {
     "data": {
      "text/html": [
       "<div>\n",
       "<style scoped>\n",
       "    .dataframe tbody tr th:only-of-type {\n",
       "        vertical-align: middle;\n",
       "    }\n",
       "\n",
       "    .dataframe tbody tr th {\n",
       "        vertical-align: top;\n",
       "    }\n",
       "\n",
       "    .dataframe thead th {\n",
       "        text-align: right;\n",
       "    }\n",
       "</style>\n",
       "<table border=\"1\" class=\"dataframe\">\n",
       "  <thead>\n",
       "    <tr style=\"text-align: right;\">\n",
       "      <th></th>\n",
       "      <th>sugar index</th>\n",
       "      <th>bake temp</th>\n",
       "      <th>chill time</th>\n",
       "      <th>calories</th>\n",
       "      <th>grams baking soda</th>\n",
       "      <th>bake time</th>\n",
       "      <th>quality</th>\n",
       "      <th>weight</th>\n",
       "      <th>chocolate</th>\n",
       "      <th>oats</th>\n",
       "      <th>peanut_butter</th>\n",
       "      <th>raisins</th>\n",
       "      <th>nuts</th>\n",
       "      <th>butter type_melted</th>\n",
       "    </tr>\n",
       "  </thead>\n",
       "  <tbody>\n",
       "    <tr>\n",
       "      <th>0</th>\n",
       "      <td>9.50</td>\n",
       "      <td>300</td>\n",
       "      <td>15.00</td>\n",
       "      <td>136.00</td>\n",
       "      <td>0.44</td>\n",
       "      <td>12.10</td>\n",
       "      <td>8</td>\n",
       "      <td>15.20</td>\n",
       "      <td>0</td>\n",
       "      <td>0</td>\n",
       "      <td>0</td>\n",
       "      <td>1</td>\n",
       "      <td>0</td>\n",
       "      <td>1</td>\n",
       "    </tr>\n",
       "    <tr>\n",
       "      <th>1</th>\n",
       "      <td>3.30</td>\n",
       "      <td>520</td>\n",
       "      <td>34.00</td>\n",
       "      <td>113.00</td>\n",
       "      <td>0.48</td>\n",
       "      <td>8.40</td>\n",
       "      <td>7</td>\n",
       "      <td>12.40</td>\n",
       "      <td>0</td>\n",
       "      <td>0</td>\n",
       "      <td>0</td>\n",
       "      <td>1</td>\n",
       "      <td>0</td>\n",
       "      <td>1</td>\n",
       "    </tr>\n",
       "    <tr>\n",
       "      <th>2</th>\n",
       "      <td>1.90</td>\n",
       "      <td>360</td>\n",
       "      <td>33.00</td>\n",
       "      <td>106.00</td>\n",
       "      <td>0.83</td>\n",
       "      <td>14.00</td>\n",
       "      <td>9</td>\n",
       "      <td>9.40</td>\n",
       "      <td>1</td>\n",
       "      <td>0</td>\n",
       "      <td>0</td>\n",
       "      <td>0</td>\n",
       "      <td>1</td>\n",
       "      <td>1</td>\n",
       "    </tr>\n",
       "    <tr>\n",
       "      <th>3</th>\n",
       "      <td>10.50</td>\n",
       "      <td>490</td>\n",
       "      <td>41.00</td>\n",
       "      <td>124.00</td>\n",
       "      <td>0.35</td>\n",
       "      <td>10.50</td>\n",
       "      <td>7</td>\n",
       "      <td>12.20</td>\n",
       "      <td>1</td>\n",
       "      <td>0</td>\n",
       "      <td>0</td>\n",
       "      <td>0</td>\n",
       "      <td>0</td>\n",
       "      <td>1</td>\n",
       "    </tr>\n",
       "    <tr>\n",
       "      <th>4</th>\n",
       "      <td>2.40</td>\n",
       "      <td>770</td>\n",
       "      <td>6.00</td>\n",
       "      <td>33.00</td>\n",
       "      <td>0.57</td>\n",
       "      <td>9.40</td>\n",
       "      <td>5</td>\n",
       "      <td>19.80</td>\n",
       "      <td>1</td>\n",
       "      <td>1</td>\n",
       "      <td>0</td>\n",
       "      <td>0</td>\n",
       "      <td>1</td>\n",
       "      <td>0</td>\n",
       "    </tr>\n",
       "    <tr>\n",
       "      <th>...</th>\n",
       "      <td>...</td>\n",
       "      <td>...</td>\n",
       "      <td>...</td>\n",
       "      <td>...</td>\n",
       "      <td>...</td>\n",
       "      <td>...</td>\n",
       "      <td>...</td>\n",
       "      <td>...</td>\n",
       "      <td>...</td>\n",
       "      <td>...</td>\n",
       "      <td>...</td>\n",
       "      <td>...</td>\n",
       "      <td>...</td>\n",
       "      <td>...</td>\n",
       "    </tr>\n",
       "    <tr>\n",
       "      <th>5193</th>\n",
       "      <td>2.00</td>\n",
       "      <td>390</td>\n",
       "      <td>15.00</td>\n",
       "      <td>88.00</td>\n",
       "      <td>0.60</td>\n",
       "      <td>11.50</td>\n",
       "      <td>6</td>\n",
       "      <td>11.60</td>\n",
       "      <td>0</td>\n",
       "      <td>0</td>\n",
       "      <td>1</td>\n",
       "      <td>0</td>\n",
       "      <td>0</td>\n",
       "      <td>0</td>\n",
       "    </tr>\n",
       "    <tr>\n",
       "      <th>5194</th>\n",
       "      <td>1.50</td>\n",
       "      <td>490</td>\n",
       "      <td>10.00</td>\n",
       "      <td>97.00</td>\n",
       "      <td>0.44</td>\n",
       "      <td>10.70</td>\n",
       "      <td>8</td>\n",
       "      <td>10.00</td>\n",
       "      <td>0</td>\n",
       "      <td>0</td>\n",
       "      <td>0</td>\n",
       "      <td>1</td>\n",
       "      <td>0</td>\n",
       "      <td>1</td>\n",
       "    </tr>\n",
       "    <tr>\n",
       "      <th>5195</th>\n",
       "      <td>14.30</td>\n",
       "      <td>480</td>\n",
       "      <td>79.00</td>\n",
       "      <td>149.00</td>\n",
       "      <td>0.37</td>\n",
       "      <td>9.70</td>\n",
       "      <td>7</td>\n",
       "      <td>13.40</td>\n",
       "      <td>1</td>\n",
       "      <td>1</td>\n",
       "      <td>0</td>\n",
       "      <td>0</td>\n",
       "      <td>0</td>\n",
       "      <td>1</td>\n",
       "    </tr>\n",
       "    <tr>\n",
       "      <th>5196</th>\n",
       "      <td>1.40</td>\n",
       "      <td>560</td>\n",
       "      <td>35.00</td>\n",
       "      <td>136.00</td>\n",
       "      <td>0.78</td>\n",
       "      <td>10.30</td>\n",
       "      <td>8</td>\n",
       "      <td>13.80</td>\n",
       "      <td>1</td>\n",
       "      <td>0</td>\n",
       "      <td>0</td>\n",
       "      <td>0</td>\n",
       "      <td>0</td>\n",
       "      <td>1</td>\n",
       "    </tr>\n",
       "    <tr>\n",
       "      <th>5197</th>\n",
       "      <td>1.80</td>\n",
       "      <td>810</td>\n",
       "      <td>28.00</td>\n",
       "      <td>68.00</td>\n",
       "      <td>0.66</td>\n",
       "      <td>11.20</td>\n",
       "      <td>5</td>\n",
       "      <td>16.00</td>\n",
       "      <td>1</td>\n",
       "      <td>0</td>\n",
       "      <td>0</td>\n",
       "      <td>0</td>\n",
       "      <td>0</td>\n",
       "      <td>0</td>\n",
       "    </tr>\n",
       "  </tbody>\n",
       "</table>\n",
       "<p>5183 rows × 14 columns</p>\n",
       "</div>"
      ],
      "text/plain": [
       "      sugar index  bake temp  chill time  calories  grams baking soda  \\\n",
       "0            9.50        300       15.00    136.00               0.44   \n",
       "1            3.30        520       34.00    113.00               0.48   \n",
       "2            1.90        360       33.00    106.00               0.83   \n",
       "3           10.50        490       41.00    124.00               0.35   \n",
       "4            2.40        770        6.00     33.00               0.57   \n",
       "...           ...        ...         ...       ...                ...   \n",
       "5193         2.00        390       15.00     88.00               0.60   \n",
       "5194         1.50        490       10.00     97.00               0.44   \n",
       "5195        14.30        480       79.00    149.00               0.37   \n",
       "5196         1.40        560       35.00    136.00               0.78   \n",
       "5197         1.80        810       28.00     68.00               0.66   \n",
       "\n",
       "      bake time  quality  weight  chocolate  oats  peanut_butter  raisins  \\\n",
       "0         12.10        8   15.20          0     0              0        1   \n",
       "1          8.40        7   12.40          0     0              0        1   \n",
       "2         14.00        9    9.40          1     0              0        0   \n",
       "3         10.50        7   12.20          1     0              0        0   \n",
       "4          9.40        5   19.80          1     1              0        0   \n",
       "...         ...      ...     ...        ...   ...            ...      ...   \n",
       "5193      11.50        6   11.60          0     0              1        0   \n",
       "5194      10.70        8   10.00          0     0              0        1   \n",
       "5195       9.70        7   13.40          1     1              0        0   \n",
       "5196      10.30        8   13.80          1     0              0        0   \n",
       "5197      11.20        5   16.00          1     0              0        0   \n",
       "\n",
       "      nuts  butter type_melted  \n",
       "0        0                   1  \n",
       "1        0                   1  \n",
       "2        1                   1  \n",
       "3        0                   1  \n",
       "4        1                   0  \n",
       "...    ...                 ...  \n",
       "5193     0                   0  \n",
       "5194     0                   1  \n",
       "5195     0                   1  \n",
       "5196     0                   1  \n",
       "5197     0                   0  \n",
       "\n",
       "[5183 rows x 14 columns]"
      ]
     },
     "execution_count": 94,
     "metadata": {},
     "output_type": "execute_result"
    }
   ],
   "source": [
    "cookies_fixed = pd.read_csv(\"../data/cookies_fixed.csv\",index_col = 0)\n",
    "cookies_val_fixed = pd.read_csv(\"../data/cookies_validate_fixed.csv\",index_col = 0)\n",
    "cookies_fixed"
   ]
  },
  {
   "cell_type": "code",
   "execution_count": 48,
   "metadata": {
    "ExecuteTime": {
     "end_time": "2021-05-11T13:57:58.184247Z",
     "start_time": "2021-05-11T13:57:57.095183Z"
    }
   },
   "outputs": [
    {
     "data": {
      "text/plain": [
       "<AxesSubplot:>"
      ]
     },
     "execution_count": 48,
     "metadata": {},
     "output_type": "execute_result"
    },
    {
     "data": {
      "image/png": "[encoded data removed]",
      "text/plain": [
       "<Figure size 1440x1440 with 2 Axes>"
      ]
     },
     "metadata": {
      "needs_background": "light"
     },
     "output_type": "display_data"
    }
   ],
   "source": [
    "c = abs(cookies_fixed.corr())\n",
    "fig_dims = (20, 20)\n",
    "mask = np.triu(np.ones_like(c, dtype=bool))\n",
    "fig, ax = plt.subplots(figsize=fig_dims)\n",
    "sns.heatmap(c, annot=True,ax = ax, mask=mask)"
   ]
  },
  {
   "cell_type": "code",
   "execution_count": null,
   "metadata": {
    "ExecuteTime": {
     "end_time": "2021-05-11T13:30:27.089509Z",
     "start_time": "2021-05-11T13:30:27.068348Z"
    }
   },
   "outputs": [],
   "source": []
  },
  {
   "cell_type": "code",
   "execution_count": 49,
   "metadata": {
    "ExecuteTime": {
     "end_time": "2021-05-11T13:57:58.194206Z",
     "start_time": "2021-05-11T13:57:58.186793Z"
    }
   },
   "outputs": [],
   "source": [
    "from sklearn.model_selection import cross_validate as cv"
   ]
  },
  {
   "cell_type": "code",
   "execution_count": 51,
   "metadata": {
    "ExecuteTime": {
     "end_time": "2021-05-11T13:58:23.805496Z",
     "start_time": "2021-05-11T13:58:23.800171Z"
    }
   },
   "outputs": [],
   "source": [
    "X = cookies_fixed.drop(columns = ['quality', 'raisins','peanut_butter', 'oats', \"chocolate\"])\n",
    "y = cookies_fixed['quality']"
   ]
  },
  {
   "cell_type": "code",
   "execution_count": 52,
   "metadata": {
    "ExecuteTime": {
     "end_time": "2021-05-11T13:58:27.398999Z",
     "start_time": "2021-05-11T13:58:27.381600Z"
    }
   },
   "outputs": [],
   "source": [
    "from sklearn.model_selection import train_test_split\n",
    "from sklearn.preprocessing import PowerTransformer\n",
    "from sklearn.tree import DecisionTreeRegressor\n",
    "\n",
    "dt_model = DecisionTreeRegressor(max_depth=3)\n",
    "\n",
    "dt_model.fit(X, y)\n",
    "\n",
    "y_pred = dt_model.predict(X)\n",
    "\n",
    "\n"
   ]
  },
  {
   "cell_type": "code",
   "execution_count": 53,
   "metadata": {
    "ExecuteTime": {
     "end_time": "2021-05-11T13:58:27.661763Z",
     "start_time": "2021-05-11T13:58:27.650567Z"
    }
   },
   "outputs": [
    {
     "data": {
      "text/plain": [
       "array([8.38888889, 7.65749235, 8.38888889, ..., 7.65749235, 7.65749235,\n",
       "       6.34172662])"
      ]
     },
     "execution_count": 53,
     "metadata": {},
     "output_type": "execute_result"
    }
   ],
   "source": [
    "y_pred"
   ]
  },
  {
   "cell_type": "code",
   "execution_count": 54,
   "metadata": {
    "ExecuteTime": {
     "end_time": "2021-05-11T13:58:27.994116Z",
     "start_time": "2021-05-11T13:58:27.976828Z"
    }
   },
   "outputs": [
    {
     "data": {
      "text/html": [
       "<div>\n",
       "<style scoped>\n",
       "    .dataframe tbody tr th:only-of-type {\n",
       "        vertical-align: middle;\n",
       "    }\n",
       "\n",
       "    .dataframe tbody tr th {\n",
       "        vertical-align: top;\n",
       "    }\n",
       "\n",
       "    .dataframe thead th {\n",
       "        text-align: right;\n",
       "    }\n",
       "</style>\n",
       "<table border=\"1\" class=\"dataframe\">\n",
       "  <thead>\n",
       "    <tr style=\"text-align: right;\">\n",
       "      <th></th>\n",
       "      <th>Error_metric</th>\n",
       "      <th>Train</th>\n",
       "    </tr>\n",
       "  </thead>\n",
       "  <tbody>\n",
       "    <tr>\n",
       "      <th>0</th>\n",
       "      <td>Mean error</td>\n",
       "      <td>0.00</td>\n",
       "    </tr>\n",
       "    <tr>\n",
       "      <th>1</th>\n",
       "      <td>Mean absolute error</td>\n",
       "      <td>0.63</td>\n",
       "    </tr>\n",
       "    <tr>\n",
       "      <th>2</th>\n",
       "      <td>Mean squared error</td>\n",
       "      <td>0.59</td>\n",
       "    </tr>\n",
       "    <tr>\n",
       "      <th>3</th>\n",
       "      <td>Root mean squared error</td>\n",
       "      <td>0.77</td>\n",
       "    </tr>\n",
       "    <tr>\n",
       "      <th>4</th>\n",
       "      <td>Mean absolute percentual error</td>\n",
       "      <td>8.85</td>\n",
       "    </tr>\n",
       "    <tr>\n",
       "      <th>5</th>\n",
       "      <td>R2</td>\n",
       "      <td>0.65</td>\n",
       "    </tr>\n",
       "  </tbody>\n",
       "</table>\n",
       "</div>"
      ],
      "text/plain": [
       "                     Error_metric  Train\n",
       "0                      Mean error   0.00\n",
       "1             Mean absolute error   0.63\n",
       "2              Mean squared error   0.59\n",
       "3         Root mean squared error   0.77\n",
       "4  Mean absolute percentual error   8.85\n",
       "5                              R2   0.65"
      ]
     },
     "execution_count": 54,
     "metadata": {},
     "output_type": "execute_result"
    }
   ],
   "source": [
    "from sklearn.metrics import mean_absolute_error, mean_squared_error, r2_score\n",
    "\n",
    "def performance_model(y_train, y_pred_train):\n",
    "\n",
    "    # Model validation y_train - y_pred_train\n",
    "    ME_train = np.mean(y_train-y_pred_train)\n",
    "\n",
    "    MAE_train = mean_absolute_error(y_train,y_pred_train)\n",
    "    \n",
    "    MSE_train = mean_squared_error(y_train,y_pred_train)\n",
    "\n",
    "    RMSE_train = np.sqrt(MSE_train)\n",
    "\n",
    "    MAPE_train = np.mean((np.abs(y_train-y_pred_train) / y_train)* 100.)\n",
    "\n",
    "    R2_train = r2_score(y_train,y_pred_train)\n",
    "\n",
    "    performance = pd.DataFrame({'Error_metric': ['Mean error','Mean absolute error','Mean squared error',\n",
    "                                             'Root mean squared error','Mean absolute percentual error',\n",
    "                                             'R2'],\n",
    "                            'Train': [ME_train, MAE_train, MSE_train, RMSE_train, MAPE_train, R2_train]})\n",
    "    pd.options.display.float_format = '{:.2f}'.format\n",
    "\n",
    "\n",
    "    df_train = pd.DataFrame({'Real_value': y_train, 'Predicted_value': y_pred_train})\n",
    "\n",
    "    return performance, df_train\n",
    "\n",
    "performance, _ = performance_model(y, y_pred)\n",
    "performance"
   ]
  },
  {
   "cell_type": "code",
   "execution_count": 55,
   "metadata": {
    "ExecuteTime": {
     "end_time": "2021-05-11T13:58:28.260094Z",
     "start_time": "2021-05-11T13:58:28.248667Z"
    }
   },
   "outputs": [
    {
     "data": {
      "text/html": [
       "<div>\n",
       "<style scoped>\n",
       "    .dataframe tbody tr th:only-of-type {\n",
       "        vertical-align: middle;\n",
       "    }\n",
       "\n",
       "    .dataframe tbody tr th {\n",
       "        vertical-align: top;\n",
       "    }\n",
       "\n",
       "    .dataframe thead th {\n",
       "        text-align: right;\n",
       "    }\n",
       "</style>\n",
       "<table border=\"1\" class=\"dataframe\">\n",
       "  <thead>\n",
       "    <tr style=\"text-align: right;\">\n",
       "      <th></th>\n",
       "      <th>Error_metric</th>\n",
       "      <th>Train</th>\n",
       "    </tr>\n",
       "  </thead>\n",
       "  <tbody>\n",
       "    <tr>\n",
       "      <th>0</th>\n",
       "      <td>Mean error</td>\n",
       "      <td>0.00</td>\n",
       "    </tr>\n",
       "    <tr>\n",
       "      <th>1</th>\n",
       "      <td>Mean absolute error</td>\n",
       "      <td>0.63</td>\n",
       "    </tr>\n",
       "    <tr>\n",
       "      <th>2</th>\n",
       "      <td>Mean squared error</td>\n",
       "      <td>0.59</td>\n",
       "    </tr>\n",
       "    <tr>\n",
       "      <th>3</th>\n",
       "      <td>Root mean squared error</td>\n",
       "      <td>0.77</td>\n",
       "    </tr>\n",
       "    <tr>\n",
       "      <th>4</th>\n",
       "      <td>Mean absolute percentual error</td>\n",
       "      <td>8.85</td>\n",
       "    </tr>\n",
       "    <tr>\n",
       "      <th>5</th>\n",
       "      <td>R2</td>\n",
       "      <td>0.65</td>\n",
       "    </tr>\n",
       "  </tbody>\n",
       "</table>\n",
       "</div>"
      ],
      "text/plain": [
       "                     Error_metric  Train\n",
       "0                      Mean error   0.00\n",
       "1             Mean absolute error   0.63\n",
       "2              Mean squared error   0.59\n",
       "3         Root mean squared error   0.77\n",
       "4  Mean absolute percentual error   8.85\n",
       "5                              R2   0.65"
      ]
     },
     "execution_count": 55,
     "metadata": {},
     "output_type": "execute_result"
    }
   ],
   "source": [
    "performance, _ = performance_model(y, y_pred)\n",
    "performance"
   ]
  },
  {
   "cell_type": "code",
   "execution_count": 73,
   "metadata": {
    "ExecuteTime": {
     "end_time": "2021-05-11T14:04:31.805823Z",
     "start_time": "2021-05-11T14:04:31.186244Z"
    }
   },
   "outputs": [],
   "source": [
    "\n",
    "y_pred_list = []\n",
    "\n",
    "for i in range(1,26):\n",
    "    dt_model = DecisionTreeRegressor(max_depth=i)\n",
    "    dt_model.fit(X, y)\n",
    "    y_pred = dt_model.predict(X)\n",
    "    y_pred_list.append(y_pred)"
   ]
  },
  {
   "cell_type": "code",
   "execution_count": 74,
   "metadata": {
    "ExecuteTime": {
     "end_time": "2021-05-11T14:04:32.010769Z",
     "start_time": "2021-05-11T14:04:31.980761Z"
    }
   },
   "outputs": [],
   "source": [
    "mse_list = []\n",
    "rmse_list = []\n",
    "R2_list = []\n",
    "for yp in y_pred_list:\n",
    "    MSE = mean_squared_error(y,yp)\n",
    "    RMSE = np.sqrt(MSE)\n",
    "    R2 = r2_score(y,yp)\n",
    "    mse_list.append(MSE)\n",
    "    R2_list.append(R2)\n",
    "    rmse_list.append(RMSE)"
   ]
  },
  {
   "cell_type": "code",
   "execution_count": 82,
   "metadata": {
    "ExecuteTime": {
     "end_time": "2021-05-11T14:57:18.911137Z",
     "start_time": "2021-05-11T14:57:18.902958Z"
    }
   },
   "outputs": [
    {
     "data": {
      "text/plain": [
       "[0.7486361163861962,\n",
       " 0.6284071971945322,\n",
       " 0.5866581407785697,\n",
       " 0.5474721615232955,\n",
       " 0.5171162711525874,\n",
       " 0.4817287819709426,\n",
       " 0.4465053254493009,\n",
       " 0.40194091318934644,\n",
       " 0.35573418530108025,\n",
       " 0.3088337121170309,\n",
       " 0.2668672163133591,\n",
       " 0.22492522091194694,\n",
       " 0.1872250115360829,\n",
       " 0.15274162350653503,\n",
       " 0.12207280770279243,\n",
       " 0.08953056903966028,\n",
       " 0.06276294748287774,\n",
       " 0.04338660489538806,\n",
       " 0.029131123648433448,\n",
       " 0.017679164595804285,\n",
       " 0.009791397712435113,\n",
       " 0.004610234066858456,\n",
       " 0.0017047490421983958,\n",
       " 0.00045018972281175634,\n",
       " 0.0]"
      ]
     },
     "execution_count": 82,
     "metadata": {},
     "output_type": "execute_result"
    }
   ],
   "source": [
    "mse_list "
   ]
  },
  {
   "cell_type": "code",
   "execution_count": 83,
   "metadata": {
    "ExecuteTime": {
     "end_time": "2021-05-11T14:57:19.303501Z",
     "start_time": "2021-05-11T14:57:19.289843Z"
    }
   },
   "outputs": [
    {
     "data": {
      "text/plain": [
       "[0.8652376068954679,\n",
       " 0.7927213868658598,\n",
       " 0.7659361205600437,\n",
       " 0.7399136176090392,\n",
       " 0.7191079690509538,\n",
       " 0.6940668425814207,\n",
       " 0.6682105397622077,\n",
       " 0.633988101772696,\n",
       " 0.596434560786915,\n",
       " 0.5557280918911972,\n",
       " 0.5165919243594107,\n",
       " 0.474262818394977,\n",
       " 0.4326950560568989,\n",
       " 0.39082172854964836,\n",
       " 0.34938919230965404,\n",
       " 0.2992165921864299,\n",
       " 0.2505253429952302,\n",
       " 0.20829451479908936,\n",
       " 0.1706784217422737,\n",
       " 0.13296301965510668,\n",
       " 0.098951491714047,\n",
       " 0.06789870445640665,\n",
       " 0.04128860668754028,\n",
       " 0.021217674773918,\n",
       " 0.0]"
      ]
     },
     "execution_count": 83,
     "metadata": {},
     "output_type": "execute_result"
    }
   ],
   "source": [
    "rmse_list"
   ]
  },
  {
   "cell_type": "code",
   "execution_count": 84,
   "metadata": {
    "ExecuteTime": {
     "end_time": "2021-05-11T14:57:19.742230Z",
     "start_time": "2021-05-11T14:57:19.737784Z"
    }
   },
   "outputs": [
    {
     "data": {
      "text/plain": [
       "[0.5588951007156628,\n",
       " 0.6297353449014582,\n",
       " 0.6543343629323746,\n",
       " 0.6774231868007639,\n",
       " 0.6953092220474926,\n",
       " 0.7161599324390048,\n",
       " 0.7369139929249269,\n",
       " 0.7631718505827749,\n",
       " 0.7903973792545683,\n",
       " 0.8180316705309534,\n",
       " 0.8427588063177682,\n",
       " 0.8674715061894107,\n",
       " 0.8896848975764222,\n",
       " 0.9100029013045642,\n",
       " 0.9280733157691812,\n",
       " 0.9472475722521301,\n",
       " 0.9630193587749096,\n",
       " 0.974436119813385,\n",
       " 0.982835611211211,\n",
       " 0.98958323550284,\n",
       " 0.9942307973029069,\n",
       " 0.9972835977463185,\n",
       " 0.9989955425097657,\n",
       " 0.9997347431041688,\n",
       " 1.0]"
      ]
     },
     "execution_count": 84,
     "metadata": {},
     "output_type": "execute_result"
    }
   ],
   "source": [
    "R2_list"
   ]
  },
  {
   "cell_type": "raw",
   "metadata": {
    "ExecuteTime": {
     "end_time": "2021-05-11T14:00:20.208930Z",
     "start_time": "2021-05-11T13:58:30.547513Z"
    }
   },
   "source": [
    "from sklearn.tree import plot_tree\n",
    "fig, axes = plt.subplots(nrows = 1,ncols = 1,figsize = (4,4), dpi=300)\n",
    "\n",
    "plot_tree(dt_model,filled = True, rounded=True)\n",
    "plt.show()  "
   ]
  },
  {
   "cell_type": "code",
   "execution_count": 118,
   "metadata": {
    "ExecuteTime": {
     "end_time": "2021-05-11T15:53:59.061042Z",
     "start_time": "2021-05-11T15:50:01.463095Z"
    }
   },
   "outputs": [
    {
     "data": {
      "text/plain": [
       "GridSearchCV(cv=20, estimator=DecisionTreeRegressor(),\n",
       "             param_grid={'max_depth': [1, 2, 3, 4, 5, 6, 7, 8, 9, 10, 11, 12,\n",
       "                                       13, 14, 15, 16, 17, 18, 19, 20, 21, 22,\n",
       "                                       23, 24, 25],\n",
       "                         'min_samples_split': [10, 15, 20, 25, 30, 35, 40, 45,\n",
       "                                               50, 55, 60, 65, 70, 75, 80, 85,\n",
       "                                               90, 95, 100],\n",
       "                         'splitter': ('best', 'random')})"
      ]
     },
     "execution_count": 118,
     "metadata": {},
     "output_type": "execute_result"
    }
   ],
   "source": [
    "from sklearn.model_selection import GridSearchCV\n",
    "#parameters = {'kernel': ('linear', 'rbf'), 'C': [1, 2, 4, 8, 16, 32], 'gamma': [0.125, 0.25, 0.5, 1, 2, 4]}\n",
    "clf = GridSearchCV(DecisionTreeRegressor(), {\"max_depth\":list(range(1,26)), \"splitter\":('best', 'random'), \"min_samples_split\":list(range(10,101,5))}, cv = 20)\n",
    "clf.fit(X,y)"
   ]
  },
  {
   "cell_type": "code",
   "execution_count": 119,
   "metadata": {
    "ExecuteTime": {
     "end_time": "2021-05-11T15:54:05.021587Z",
     "start_time": "2021-05-11T15:54:05.017061Z"
    }
   },
   "outputs": [
    {
     "data": {
      "text/plain": [
       "0.6789513661959039"
      ]
     },
     "execution_count": 119,
     "metadata": {},
     "output_type": "execute_result"
    }
   ],
   "source": [
    "clf.best_score_"
   ]
  },
  {
   "cell_type": "code",
   "execution_count": 120,
   "metadata": {
    "ExecuteTime": {
     "end_time": "2021-05-11T15:54:06.797288Z",
     "start_time": "2021-05-11T15:54:06.784715Z"
    }
   },
   "outputs": [
    {
     "data": {
      "text/plain": [
       "DecisionTreeRegressor(max_depth=25, min_samples_split=70, splitter='random')"
      ]
     },
     "execution_count": 120,
     "metadata": {},
     "output_type": "execute_result"
    }
   ],
   "source": [
    "clf.best_estimator_"
   ]
  },
  {
   "cell_type": "code",
   "execution_count": 121,
   "metadata": {
    "ExecuteTime": {
     "end_time": "2021-05-11T15:54:10.871711Z",
     "start_time": "2021-05-11T15:54:10.864716Z"
    }
   },
   "outputs": [
    {
     "data": {
      "text/plain": [
       "{'max_depth': 25, 'min_samples_split': 70, 'splitter': 'random'}"
      ]
     },
     "execution_count": 121,
     "metadata": {},
     "output_type": "execute_result"
    }
   ],
   "source": [
    "clf.best_params_"
   ]
  },
  {
   "cell_type": "code",
   "execution_count": 95,
   "metadata": {
    "ExecuteTime": {
     "end_time": "2021-05-11T15:30:28.916023Z",
     "start_time": "2021-05-11T15:30:28.906460Z"
    }
   },
   "outputs": [],
   "source": [
    "x_test = cookies_val_fixed.drop(columns = [\"quality\", 'raisins','peanut_butter', 'oats', \"chocolate\"])"
   ]
  },
  {
   "cell_type": "code",
   "execution_count": 122,
   "metadata": {
    "ExecuteTime": {
     "end_time": "2021-05-11T15:54:21.885990Z",
     "start_time": "2021-05-11T15:54:21.870623Z"
    }
   },
   "outputs": [],
   "source": [
    "y_pred = clf.predict(x_test)"
   ]
  },
  {
   "cell_type": "code",
   "execution_count": 123,
   "metadata": {
    "ExecuteTime": {
     "end_time": "2021-05-11T15:54:22.870200Z",
     "start_time": "2021-05-11T15:54:22.845747Z"
    }
   },
   "outputs": [
    {
     "data": {
      "text/plain": [
       "array([ 6.92857143,  7.81818182,  7.77358491,  8.14814815,  8.17777778,\n",
       "        7.58333333,  7.81818182,  6.92857143,  8.01886792,  7.62790698,\n",
       "        7.88095238,  8.10344828,  7.7       ,  8.02083333,  8.28947368,\n",
       "        7.45762712,  7.51282051,  8.03571429,  8.54411765,  8.21818182,\n",
       "        7.59090909,  7.85454545,  8.06666667,  8.        ,  7.11111111,\n",
       "        7.11111111,  7.        ,  7.85454545,  7.11111111,  8.08474576,\n",
       "        8.01886792,  8.10344828,  7.45762712,  8.57142857,  8.28947368,\n",
       "        8.03571429,  8.53030303,  8.56      ,  7.07692308,  7.58333333,\n",
       "        8.57142857,  8.2       ,  7.55172414,  7.59090909,  7.50980392,\n",
       "        7.65957447,  7.49230769,  7.84444444,  7.62264151,  7.2962963 ,\n",
       "        8.08474576,  6.92857143,  7.55172414,  7.50769231,  7.50769231,\n",
       "        7.84444444,  8.        ,  7.59677419,  8.28787879,  8.89393939,\n",
       "        7.46666667,  7.65384615,  7.31034483,  8.06666667,  8.27272727,\n",
       "        7.59090909,  7.51282051,  7.36734694,  7.17460317,  8.53030303,\n",
       "        8.        ,  8.89393939,  7.17460317,  7.07692308,  7.55172414,\n",
       "        7.59677419,  8.56      ,  7.85454545,  7.46666667,  8.06666667,\n",
       "        7.77358491,  8.78571429,  8.10344828,  7.8       ,  6.        ,\n",
       "        8.78571429,  8.78571429,  7.59090909,  8.10344828,  8.21818182,\n",
       "        7.64516129,  7.07692308,  8.06666667,  7.30909091,  7.55172414,\n",
       "        7.49230769,  7.50769231,  8.21818182,  8.08474576,  8.03571429,\n",
       "        8.53030303,  7.42553191,  8.58823529,  8.01886792,  8.45652174,\n",
       "        7.7       ,  7.50769231,  7.62790698,  8.08474576,  8.53030303,\n",
       "        8.02083333,  7.30909091,  7.07692308,  7.49230769,  8.        ,\n",
       "        7.45762712,  7.62264151,  7.62264151,  8.89393939,  7.07692308,\n",
       "        8.03571429,  7.50769231,  7.55172414,  7.59090909,  7.84444444,\n",
       "        7.85454545,  7.2962963 ,  7.77358491,  7.11111111,  7.85454545,\n",
       "        7.55172414,  8.58823529,  8.14285714,  7.07692308,  7.2962963 ,\n",
       "        8.2       ,  8.14285714,  8.14285714,  8.        ,  8.        ,\n",
       "        7.125     ,  7.125     ,  7.55172414,  7.58333333,  7.62264151,\n",
       "        7.49230769,  7.51282051,  8.54411765,  7.64516129,  8.54411765,\n",
       "        7.17460317,  7.88095238,  7.49230769,  7.29411765,  7.49230769,\n",
       "        8.14285714,  7.45762712,  7.42553191,  8.54411765,  8.53030303,\n",
       "        8.28947368,  7.85714286,  8.14285714,  7.88      ,  7.85714286,\n",
       "        7.62264151,  7.65384615,  7.17460317,  7.        ,  8.01886792,\n",
       "        8.17777778,  7.84444444,  7.88095238,  7.50769231,  8.28947368,\n",
       "        8.54411765,  8.2       ,  7.50769231,  7.5       ,  8.29230769,\n",
       "        7.07692308,  7.36363636,  7.11111111,  7.2962963 ,  7.29411765,\n",
       "        7.42553191,  7.65384615,  7.2962963 ,  7.77358491,  8.2       ,\n",
       "        7.46875   ,  7.51282051,  7.65384615,  7.11111111,  7.59090909,\n",
       "        7.59090909,  7.45762712,  7.45762712,  9.11363636,  8.01886792,\n",
       "        7.49230769,  8.48387097,  8.76923077,  7.11111111,  8.53030303,\n",
       "        7.51282051,  7.50769231,  7.50980392,  7.77358491,  8.02083333,\n",
       "        7.49230769,  7.11111111,  8.06153846,  7.81818182,  7.77358491,\n",
       "        7.07692308,  7.55172414,  7.77358491,  7.8       ,  7.11111111,\n",
       "        7.11111111,  7.29411765,  7.29411765,  7.77358491,  7.88095238,\n",
       "        7.81818182,  7.49230769,  7.11111111,  7.91304348,  7.59677419,\n",
       "        7.65517241,  7.36734694,  7.62264151,  7.51282051,  7.88095238,\n",
       "        8.89393939,  8.89393939,  7.30909091,  8.58823529,  7.64516129,\n",
       "        7.88095238,  7.91304348,  7.65517241,  7.58333333,  7.45762712,\n",
       "        8.08474576,  7.49230769,  8.10344828,  7.50980392,  7.50980392,\n",
       "        7.82258065,  7.875     ,  7.11111111,  8.01886792,  7.50980392,\n",
       "        8.10344828,  7.65517241,  7.50980392,  8.        ,  8.06153846,\n",
       "        8.6       ,  7.11111111,  7.29411765,  8.89393939,  7.85454545,\n",
       "        7.11764706,  7.65517241,  7.77358491,  7.11764706,  8.01886792,\n",
       "        8.89393939,  7.91304348,  7.65957447,  6.92857143,  8.89393939,\n",
       "        7.50980392,  8.08474576,  8.71428571,  8.22222222,  8.48387097,\n",
       "        7.77358491,  7.45762712,  7.46875   ,  7.        ,  7.88      ,\n",
       "        8.06666667,  7.59677419,  7.42553191,  8.6       ,  7.50980392,\n",
       "        8.5       ,  8.01886792,  8.14285714,  8.14285714,  7.58333333,\n",
       "        8.54411765,  8.54411765,  7.50980392,  7.31034483,  8.29230769,\n",
       "        7.5       ,  8.06666667,  7.59090909,  7.11111111,  8.22222222,\n",
       "        8.29230769,  8.54411765,  8.06153846,  8.02083333,  7.88      ,\n",
       "        8.28787879,  8.28947368,  8.74074074,  7.7       ,  8.28947368,\n",
       "        7.11111111,  8.06666667,  7.81818182,  8.14545455,  8.53030303,\n",
       "        7.85454545,  8.06666667,  8.06666667,  8.06153846,  8.06153846,\n",
       "        7.62264151,  8.2       ,  7.88095238,  7.91304348,  8.01886792,\n",
       "        7.875     ,  8.53030303,  7.91304348,  8.33333333,  8.22222222,\n",
       "        7.91304348,  8.14545455,  8.        ,  9.11363636,  7.59677419,\n",
       "        7.        ,  7.91304348,  8.10344828,  8.54411765,  8.54411765,\n",
       "        8.02083333,  8.21818182,  7.03225806,  7.65517241,  7.46875   ,\n",
       "        8.10344828,  8.10344828,  8.22222222,  8.54411765,  7.59677419,\n",
       "        8.10344828,  7.91304348,  7.7       ,  8.5       ,  8.58823529,\n",
       "        8.14545455,  8.53030303,  7.        ,  8.06666667,  8.53030303,\n",
       "        7.88      ,  7.82258065,  8.2       ,  8.06153846,  7.59677419,\n",
       "        8.22222222,  8.76923077,  8.29230769,  8.57142857,  7.50980392,\n",
       "        8.74074074,  7.65517241,  8.53030303,  9.11363636,  8.89393939,\n",
       "        8.14814815,  8.5       ,  7.59090909,  8.57142857,  8.28787879,\n",
       "        8.29230769,  7.62790698,  8.89393939,  8.89393939,  7.81818182,\n",
       "        8.45652174,  8.17777778,  8.17777778,  9.11363636,  8.78571429,\n",
       "        8.21818182,  6.80645161,  7.29411765,  7.59090909,  8.48387097,\n",
       "        8.53030303,  8.06153846,  8.78571429,  8.89393939,  8.76923077,\n",
       "        8.22222222,  7.8       ,  8.06153846,  8.76923077,  8.06153846,\n",
       "        8.5       ,  8.21818182,  7.36734694,  8.5       ,  7.36734694,\n",
       "        7.88095238,  8.76923077,  7.50769231,  8.5       ,  8.6       ,\n",
       "        8.28787879,  7.59677419,  8.71428571,  8.5       ,  8.6       ,\n",
       "        7.03225806,  8.6       ,  7.50769231,  7.81818182,  8.78571429,\n",
       "        9.03571429,  8.06153846,  8.06666667,  8.5       ,  9.03571429,\n",
       "        7.51282051,  8.56      ,  8.06666667,  8.6       ,  7.65957447,\n",
       "        7.91304348,  9.03571429,  8.45652174,  8.45652174,  7.50769231,\n",
       "        8.74074074,  8.28947368,  7.49230769,  8.33333333,  8.74074074,\n",
       "        8.21818182,  8.08474576,  7.65517241,  8.01886792,  8.48387097,\n",
       "        8.06153846,  8.48387097,  7.82258065,  7.51282051,  7.51282051,\n",
       "        8.        ,  8.71428571,  8.28787879,  8.57142857,  8.28787879,\n",
       "        7.30909091,  8.58823529,  7.30909091,  7.88      ,  7.36734694,\n",
       "        8.5       ,  8.21818182,  9.03571429,  7.        ,  8.        ,\n",
       "        7.91304348,  7.85714286,  7.17460317,  8.45652174,  8.28787879,\n",
       "        8.45652174,  8.2       ,  7.17460317,  7.03225806,  7.88095238,\n",
       "        8.29230769,  8.        ,  7.11764706,  8.        ,  8.53030303,\n",
       "        7.875     ,  8.01886792,  8.06153846,  8.6       ,  7.65957447,\n",
       "        8.53030303,  8.21818182,  8.06666667,  7.49230769,  7.49230769,\n",
       "        7.        ,  7.50980392,  8.06666667,  8.06666667,  8.74074074,\n",
       "        7.31034483,  8.06666667,  8.48387097,  9.03571429,  8.89393939,\n",
       "        7.62790698,  9.03571429,  7.50980392,  7.50980392,  8.53030303,\n",
       "        7.65517241,  8.29230769,  8.14545455,  7.64516129,  8.54411765,\n",
       "        8.10344828,  8.10344828,  8.6       ,  8.06153846,  8.6       ,\n",
       "        9.03571429,  8.6       ,  8.6       ,  8.08474576,  8.76923077,\n",
       "        7.46666667,  7.17460317,  9.03571429,  8.02083333,  8.02083333,\n",
       "        8.29230769,  8.58823529,  8.08474576,  7.85714286,  8.08474576,\n",
       "        7.        ,  9.11363636,  8.57142857,  7.82258065,  7.42553191,\n",
       "        7.17460317,  7.17460317,  8.22222222,  8.21818182,  8.        ,\n",
       "        7.65957447,  7.82258065,  8.14814815,  7.91304348,  7.88      ,\n",
       "        6.80645161,  7.65957447,  7.91304348,  7.85714286,  8.45652174,\n",
       "       10.        ,  8.58823529,  8.54411765,  8.17777778,  7.42553191,\n",
       "        7.03225806,  8.17777778,  8.17777778,  7.82258065,  7.42553191,\n",
       "        7.42553191,  8.17777778,  8.17777778,  8.03571429,  7.8       ,\n",
       "        8.06153846,  7.85714286,  8.14285714,  7.7       ,  8.        ,\n",
       "        7.30909091,  7.125     ,  8.89393939,  7.75      ,  8.2       ,\n",
       "        8.        ,  8.58823529,  7.62264151,  8.14545455,  7.65384615,\n",
       "        8.29230769,  8.54411765,  8.29230769,  8.48387097,  7.42553191,\n",
       "        7.49230769,  7.91304348,  8.29230769,  8.21818182,  8.48387097,\n",
       "        8.4       ,  9.03571429,  8.29230769,  8.08474576,  8.2       ,\n",
       "        8.06666667,  7.49230769,  7.49230769,  7.49230769,  8.45652174,\n",
       "        8.06666667,  8.5       ,  8.21818182,  8.58823529,  8.06666667,\n",
       "        7.42553191,  7.45762712,  7.45762712,  7.65384615,  7.65517241,\n",
       "        7.65517241,  7.65957447,  8.        ,  8.74074074,  7.11111111,\n",
       "        8.06666667,  7.51282051,  7.51282051,  7.42553191,  8.58823529,\n",
       "        8.45652174,  8.28787879,  7.        ,  7.11111111,  8.28787879,\n",
       "        7.17460317,  8.28787879,  7.11111111,  8.28947368,  8.45652174,\n",
       "        7.88      ,  7.30909091,  9.11363636,  7.64516129,  8.06153846,\n",
       "        8.22222222,  8.5       ,  8.06666667,  8.6       ,  8.5       ,\n",
       "        8.6       ,  7.125     ,  8.5       ,  8.58823529,  8.28787879,\n",
       "        8.89393939,  6.80645161,  8.33333333,  8.89393939,  7.7       ,\n",
       "        7.7       ,  7.50980392,  8.06153846,  7.27272727,  7.875     ,\n",
       "        7.875     ,  7.31034483,  8.45652174,  8.06666667,  8.06153846,\n",
       "        8.28787879,  7.7       ,  8.06153846,  8.45652174,  7.33333333,\n",
       "        8.22222222,  8.28787879,  9.03571429,  7.49230769,  8.28787879,\n",
       "        7.50980392,  8.29230769,  8.06153846,  8.        ,  8.74074074,\n",
       "        8.58823529,  8.22222222,  7.81818182,  7.88      ,  7.50980392,\n",
       "        7.50980392,  8.02083333,  8.14545455,  7.36734694,  8.54411765,\n",
       "        8.6       ,  7.88095238,  8.54411765,  8.21818182,  6.80645161,\n",
       "        7.49230769,  8.        ,  7.49230769,  8.        ,  8.28947368,\n",
       "        8.48387097,  5.08695652,  5.14285714,  5.48529412,  5.10769231,\n",
       "        5.8       ,  5.43396226,  5.34042553,  5.08695652,  5.48529412,\n",
       "        5.48529412,  5.20634921,  5.27536232,  6.17460317,  5.14285714,\n",
       "        5.10769231,  5.63636364,  6.17460317,  6.17460317,  5.08695652,\n",
       "        5.9137931 ,  5.89189189,  5.8       ,  5.63636364,  5.27536232,\n",
       "        5.27536232,  6.17460317,  6.45901639,  5.27272727,  5.9137931 ,\n",
       "        5.48529412,  5.63636364,  5.10769231,  5.89189189,  5.10714286,\n",
       "        5.48529412,  5.08695652,  5.5       ,  6.45901639,  5.8       ,\n",
       "        5.48529412,  5.27536232,  6.33928571,  5.8       ,  6.56923077,\n",
       "        6.56923077,  5.48529412,  6.56923077,  6.45901639,  5.08695652,\n",
       "        6.14814815,  5.31818182,  5.8125    ,  5.        ,  5.8       ,\n",
       "        6.56923077,  5.8       ,  6.45901639,  6.45901639,  5.43396226,\n",
       "        5.20634921,  5.9137931 ,  5.8125    ,  5.48529412,  5.23529412,\n",
       "        6.56923077,  5.63636364,  5.08695652,  5.15151515,  5.10714286,\n",
       "        4.        ,  5.8       ,  5.20634921,  5.08695652])"
      ]
     },
     "execution_count": 123,
     "metadata": {},
     "output_type": "execute_result"
    }
   ],
   "source": [
    "y_pred"
   ]
  },
  {
   "cell_type": "code",
   "execution_count": 124,
   "metadata": {
    "ExecuteTime": {
     "end_time": "2021-05-11T15:58:41.996729Z",
     "start_time": "2021-05-11T15:58:41.991878Z"
    }
   },
   "outputs": [],
   "source": [
    "cookies_val_fixed['quality'] = list(y_pred)"
   ]
  },
  {
   "cell_type": "code",
   "execution_count": 125,
   "metadata": {
    "ExecuteTime": {
     "end_time": "2021-05-11T15:58:47.631879Z",
     "start_time": "2021-05-11T15:58:47.588786Z"
    }
   },
   "outputs": [
    {
     "data": {
      "text/html": [
       "<div>\n",
       "<style scoped>\n",
       "    .dataframe tbody tr th:only-of-type {\n",
       "        vertical-align: middle;\n",
       "    }\n",
       "\n",
       "    .dataframe tbody tr th {\n",
       "        vertical-align: top;\n",
       "    }\n",
       "\n",
       "    .dataframe thead th {\n",
       "        text-align: right;\n",
       "    }\n",
       "</style>\n",
       "<table border=\"1\" class=\"dataframe\">\n",
       "  <thead>\n",
       "    <tr style=\"text-align: right;\">\n",
       "      <th></th>\n",
       "      <th>sugar index</th>\n",
       "      <th>bake temp</th>\n",
       "      <th>chill time</th>\n",
       "      <th>calories</th>\n",
       "      <th>grams baking soda</th>\n",
       "      <th>bake time</th>\n",
       "      <th>quality</th>\n",
       "      <th>weight</th>\n",
       "      <th>chocolate</th>\n",
       "      <th>oats</th>\n",
       "      <th>peanut_butter</th>\n",
       "      <th>raisins</th>\n",
       "      <th>nuts</th>\n",
       "      <th>butter type_melted</th>\n",
       "    </tr>\n",
       "  </thead>\n",
       "  <tbody>\n",
       "    <tr>\n",
       "      <th>0</th>\n",
       "      <td>19.25</td>\n",
       "      <td>400.00</td>\n",
       "      <td>41.00</td>\n",
       "      <td>172.00</td>\n",
       "      <td>0.67</td>\n",
       "      <td>9.70</td>\n",
       "      <td>6.93</td>\n",
       "      <td>16.60</td>\n",
       "      <td>1</td>\n",
       "      <td>0</td>\n",
       "      <td>0</td>\n",
       "      <td>0</td>\n",
       "      <td>1</td>\n",
       "      <td>1</td>\n",
       "    </tr>\n",
       "    <tr>\n",
       "      <th>1</th>\n",
       "      <td>1.00</td>\n",
       "      <td>520.00</td>\n",
       "      <td>35.00</td>\n",
       "      <td>146.00</td>\n",
       "      <td>0.44</td>\n",
       "      <td>10.00</td>\n",
       "      <td>7.82</td>\n",
       "      <td>13.80</td>\n",
       "      <td>1</td>\n",
       "      <td>0</td>\n",
       "      <td>0</td>\n",
       "      <td>0</td>\n",
       "      <td>0</td>\n",
       "      <td>1</td>\n",
       "    </tr>\n",
       "    <tr>\n",
       "      <th>2</th>\n",
       "      <td>10.40</td>\n",
       "      <td>440.00</td>\n",
       "      <td>20.00</td>\n",
       "      <td>142.00</td>\n",
       "      <td>0.53</td>\n",
       "      <td>10.00</td>\n",
       "      <td>7.77</td>\n",
       "      <td>17.00</td>\n",
       "      <td>1</td>\n",
       "      <td>0</td>\n",
       "      <td>0</td>\n",
       "      <td>0</td>\n",
       "      <td>0</td>\n",
       "      <td>1</td>\n",
       "    </tr>\n",
       "    <tr>\n",
       "      <th>3</th>\n",
       "      <td>1.10</td>\n",
       "      <td>570.00</td>\n",
       "      <td>21.00</td>\n",
       "      <td>82.00</td>\n",
       "      <td>0.46</td>\n",
       "      <td>10.90</td>\n",
       "      <td>8.15</td>\n",
       "      <td>12.40</td>\n",
       "      <td>1</td>\n",
       "      <td>1</td>\n",
       "      <td>0</td>\n",
       "      <td>0</td>\n",
       "      <td>0</td>\n",
       "      <td>1</td>\n",
       "    </tr>\n",
       "    <tr>\n",
       "      <th>4</th>\n",
       "      <td>13.50</td>\n",
       "      <td>600.00</td>\n",
       "      <td>52.00</td>\n",
       "      <td>192.00</td>\n",
       "      <td>0.44</td>\n",
       "      <td>9.10</td>\n",
       "      <td>8.18</td>\n",
       "      <td>14.80</td>\n",
       "      <td>1</td>\n",
       "      <td>0</td>\n",
       "      <td>0</td>\n",
       "      <td>0</td>\n",
       "      <td>0</td>\n",
       "      <td>1</td>\n",
       "    </tr>\n",
       "    <tr>\n",
       "      <th>...</th>\n",
       "      <td>...</td>\n",
       "      <td>...</td>\n",
       "      <td>...</td>\n",
       "      <td>...</td>\n",
       "      <td>...</td>\n",
       "      <td>...</td>\n",
       "      <td>...</td>\n",
       "      <td>...</td>\n",
       "      <td>...</td>\n",
       "      <td>...</td>\n",
       "      <td>...</td>\n",
       "      <td>...</td>\n",
       "      <td>...</td>\n",
       "      <td>...</td>\n",
       "    </tr>\n",
       "    <tr>\n",
       "      <th>774</th>\n",
       "      <td>1.90</td>\n",
       "      <td>780.00</td>\n",
       "      <td>18.00</td>\n",
       "      <td>30.00</td>\n",
       "      <td>0.75</td>\n",
       "      <td>9.80</td>\n",
       "      <td>5.11</td>\n",
       "      <td>13.80</td>\n",
       "      <td>1</td>\n",
       "      <td>1</td>\n",
       "      <td>0</td>\n",
       "      <td>0</td>\n",
       "      <td>1</td>\n",
       "      <td>0</td>\n",
       "    </tr>\n",
       "    <tr>\n",
       "      <th>775</th>\n",
       "      <td>5.20</td>\n",
       "      <td>940.00</td>\n",
       "      <td>19.00</td>\n",
       "      <td>98.00</td>\n",
       "      <td>0.52</td>\n",
       "      <td>9.60</td>\n",
       "      <td>4.00</td>\n",
       "      <td>14.80</td>\n",
       "      <td>0</td>\n",
       "      <td>1</td>\n",
       "      <td>0</td>\n",
       "      <td>0</td>\n",
       "      <td>1</td>\n",
       "      <td>0</td>\n",
       "    </tr>\n",
       "    <tr>\n",
       "      <th>776</th>\n",
       "      <td>2.10</td>\n",
       "      <td>600.00</td>\n",
       "      <td>6.00</td>\n",
       "      <td>13.00</td>\n",
       "      <td>0.61</td>\n",
       "      <td>10.00</td>\n",
       "      <td>5.80</td>\n",
       "      <td>12.40</td>\n",
       "      <td>0</td>\n",
       "      <td>1</td>\n",
       "      <td>0</td>\n",
       "      <td>0</td>\n",
       "      <td>1</td>\n",
       "      <td>0</td>\n",
       "    </tr>\n",
       "    <tr>\n",
       "      <th>777</th>\n",
       "      <td>2.30</td>\n",
       "      <td>670.00</td>\n",
       "      <td>19.00</td>\n",
       "      <td>32.00</td>\n",
       "      <td>0.57</td>\n",
       "      <td>11.00</td>\n",
       "      <td>5.21</td>\n",
       "      <td>13.40</td>\n",
       "      <td>0</td>\n",
       "      <td>0</td>\n",
       "      <td>1</td>\n",
       "      <td>0</td>\n",
       "      <td>0</td>\n",
       "      <td>0</td>\n",
       "    </tr>\n",
       "    <tr>\n",
       "      <th>778</th>\n",
       "      <td>13.80</td>\n",
       "      <td>2050.00</td>\n",
       "      <td>48.00</td>\n",
       "      <td>82.00</td>\n",
       "      <td>0.75</td>\n",
       "      <td>8.80</td>\n",
       "      <td>5.09</td>\n",
       "      <td>19.80</td>\n",
       "      <td>0</td>\n",
       "      <td>0</td>\n",
       "      <td>0</td>\n",
       "      <td>1</td>\n",
       "      <td>1</td>\n",
       "      <td>0</td>\n",
       "    </tr>\n",
       "  </tbody>\n",
       "</table>\n",
       "<p>779 rows × 14 columns</p>\n",
       "</div>"
      ],
      "text/plain": [
       "     sugar index  bake temp  chill time  calories  grams baking soda  \\\n",
       "0          19.25     400.00       41.00    172.00               0.67   \n",
       "1           1.00     520.00       35.00    146.00               0.44   \n",
       "2          10.40     440.00       20.00    142.00               0.53   \n",
       "3           1.10     570.00       21.00     82.00               0.46   \n",
       "4          13.50     600.00       52.00    192.00               0.44   \n",
       "..           ...        ...         ...       ...                ...   \n",
       "774         1.90     780.00       18.00     30.00               0.75   \n",
       "775         5.20     940.00       19.00     98.00               0.52   \n",
       "776         2.10     600.00        6.00     13.00               0.61   \n",
       "777         2.30     670.00       19.00     32.00               0.57   \n",
       "778        13.80    2050.00       48.00     82.00               0.75   \n",
       "\n",
       "     bake time  quality  weight  chocolate  oats  peanut_butter  raisins  \\\n",
       "0         9.70     6.93   16.60          1     0              0        0   \n",
       "1        10.00     7.82   13.80          1     0              0        0   \n",
       "2        10.00     7.77   17.00          1     0              0        0   \n",
       "3        10.90     8.15   12.40          1     1              0        0   \n",
       "4         9.10     8.18   14.80          1     0              0        0   \n",
       "..         ...      ...     ...        ...   ...            ...      ...   \n",
       "774       9.80     5.11   13.80          1     1              0        0   \n",
       "775       9.60     4.00   14.80          0     1              0        0   \n",
       "776      10.00     5.80   12.40          0     1              0        0   \n",
       "777      11.00     5.21   13.40          0     0              1        0   \n",
       "778       8.80     5.09   19.80          0     0              0        1   \n",
       "\n",
       "     nuts  butter type_melted  \n",
       "0       1                   1  \n",
       "1       0                   1  \n",
       "2       0                   1  \n",
       "3       0                   1  \n",
       "4       0                   1  \n",
       "..    ...                 ...  \n",
       "774     1                   0  \n",
       "775     1                   0  \n",
       "776     1                   0  \n",
       "777     0                   0  \n",
       "778     1                   0  \n",
       "\n",
       "[779 rows x 14 columns]"
      ]
     },
     "execution_count": 125,
     "metadata": {},
     "output_type": "execute_result"
    }
   ],
   "source": [
    "cookies_val_fixed"
   ]
  },
  {
   "cell_type": "code",
   "execution_count": 126,
   "metadata": {
    "ExecuteTime": {
     "end_time": "2021-05-11T15:58:58.948218Z",
     "start_time": "2021-05-11T15:58:58.882424Z"
    }
   },
   "outputs": [
    {
     "data": {
      "text/html": [
       "<div>\n",
       "<style scoped>\n",
       "    .dataframe tbody tr th:only-of-type {\n",
       "        vertical-align: middle;\n",
       "    }\n",
       "\n",
       "    .dataframe tbody tr th {\n",
       "        vertical-align: top;\n",
       "    }\n",
       "\n",
       "    .dataframe thead th {\n",
       "        text-align: right;\n",
       "    }\n",
       "</style>\n",
       "<table border=\"1\" class=\"dataframe\">\n",
       "  <thead>\n",
       "    <tr style=\"text-align: right;\">\n",
       "      <th></th>\n",
       "      <th>sugar index</th>\n",
       "      <th>bake temp</th>\n",
       "      <th>chill time</th>\n",
       "      <th>calories</th>\n",
       "      <th>grams baking soda</th>\n",
       "      <th>bake time</th>\n",
       "      <th>quality</th>\n",
       "      <th>weight</th>\n",
       "      <th>chocolate</th>\n",
       "      <th>oats</th>\n",
       "      <th>peanut_butter</th>\n",
       "      <th>raisins</th>\n",
       "      <th>nuts</th>\n",
       "      <th>butter type_melted</th>\n",
       "    </tr>\n",
       "  </thead>\n",
       "  <tbody>\n",
       "    <tr>\n",
       "      <th>count</th>\n",
       "      <td>779.00</td>\n",
       "      <td>779.00</td>\n",
       "      <td>779.00</td>\n",
       "      <td>779.00</td>\n",
       "      <td>779.00</td>\n",
       "      <td>779.00</td>\n",
       "      <td>779.00</td>\n",
       "      <td>779.00</td>\n",
       "      <td>779.00</td>\n",
       "      <td>779.00</td>\n",
       "      <td>779.00</td>\n",
       "      <td>779.00</td>\n",
       "      <td>779.00</td>\n",
       "      <td>779.00</td>\n",
       "    </tr>\n",
       "    <tr>\n",
       "      <th>mean</th>\n",
       "      <td>6.38</td>\n",
       "      <td>480.42</td>\n",
       "      <td>34.30</td>\n",
       "      <td>129.19</td>\n",
       "      <td>0.51</td>\n",
       "      <td>10.61</td>\n",
       "      <td>7.73</td>\n",
       "      <td>14.02</td>\n",
       "      <td>0.70</td>\n",
       "      <td>0.19</td>\n",
       "      <td>0.01</td>\n",
       "      <td>0.29</td>\n",
       "      <td>0.15</td>\n",
       "      <td>0.91</td>\n",
       "    </tr>\n",
       "    <tr>\n",
       "      <th>std</th>\n",
       "      <td>5.52</td>\n",
       "      <td>225.93</td>\n",
       "      <td>20.17</td>\n",
       "      <td>50.68</td>\n",
       "      <td>0.13</td>\n",
       "      <td>1.23</td>\n",
       "      <td>0.86</td>\n",
       "      <td>2.27</td>\n",
       "      <td>0.46</td>\n",
       "      <td>0.39</td>\n",
       "      <td>0.08</td>\n",
       "      <td>0.46</td>\n",
       "      <td>0.36</td>\n",
       "      <td>0.29</td>\n",
       "    </tr>\n",
       "    <tr>\n",
       "      <th>min</th>\n",
       "      <td>0.60</td>\n",
       "      <td>120.00</td>\n",
       "      <td>2.00</td>\n",
       "      <td>8.00</td>\n",
       "      <td>0.23</td>\n",
       "      <td>8.50</td>\n",
       "      <td>4.00</td>\n",
       "      <td>9.40</td>\n",
       "      <td>0.00</td>\n",
       "      <td>0.00</td>\n",
       "      <td>0.00</td>\n",
       "      <td>0.00</td>\n",
       "      <td>0.00</td>\n",
       "      <td>0.00</td>\n",
       "    </tr>\n",
       "    <tr>\n",
       "      <th>25%</th>\n",
       "      <td>1.90</td>\n",
       "      <td>360.00</td>\n",
       "      <td>21.00</td>\n",
       "      <td>98.00</td>\n",
       "      <td>0.42</td>\n",
       "      <td>9.50</td>\n",
       "      <td>7.47</td>\n",
       "      <td>12.60</td>\n",
       "      <td>0.00</td>\n",
       "      <td>0.00</td>\n",
       "      <td>0.00</td>\n",
       "      <td>0.00</td>\n",
       "      <td>0.00</td>\n",
       "      <td>1.00</td>\n",
       "    </tr>\n",
       "    <tr>\n",
       "      <th>50%</th>\n",
       "      <td>4.80</td>\n",
       "      <td>430.00</td>\n",
       "      <td>33.00</td>\n",
       "      <td>128.00</td>\n",
       "      <td>0.50</td>\n",
       "      <td>10.50</td>\n",
       "      <td>7.88</td>\n",
       "      <td>13.60</td>\n",
       "      <td>1.00</td>\n",
       "      <td>0.00</td>\n",
       "      <td>0.00</td>\n",
       "      <td>0.00</td>\n",
       "      <td>0.00</td>\n",
       "      <td>1.00</td>\n",
       "    </tr>\n",
       "    <tr>\n",
       "      <th>75%</th>\n",
       "      <td>10.00</td>\n",
       "      <td>520.00</td>\n",
       "      <td>45.00</td>\n",
       "      <td>162.00</td>\n",
       "      <td>0.58</td>\n",
       "      <td>11.50</td>\n",
       "      <td>8.28</td>\n",
       "      <td>14.80</td>\n",
       "      <td>1.00</td>\n",
       "      <td>0.00</td>\n",
       "      <td>0.00</td>\n",
       "      <td>1.00</td>\n",
       "      <td>0.00</td>\n",
       "      <td>1.00</td>\n",
       "    </tr>\n",
       "    <tr>\n",
       "      <th>max</th>\n",
       "      <td>65.80</td>\n",
       "      <td>2140.00</td>\n",
       "      <td>289.00</td>\n",
       "      <td>440.00</td>\n",
       "      <td>1.18</td>\n",
       "      <td>14.20</td>\n",
       "      <td>10.00</td>\n",
       "      <td>27.60</td>\n",
       "      <td>1.00</td>\n",
       "      <td>1.00</td>\n",
       "      <td>1.00</td>\n",
       "      <td>1.00</td>\n",
       "      <td>1.00</td>\n",
       "      <td>1.00</td>\n",
       "    </tr>\n",
       "  </tbody>\n",
       "</table>\n",
       "</div>"
      ],
      "text/plain": [
       "       sugar index  bake temp  chill time  calories  grams baking soda  \\\n",
       "count       779.00     779.00      779.00    779.00             779.00   \n",
       "mean          6.38     480.42       34.30    129.19               0.51   \n",
       "std           5.52     225.93       20.17     50.68               0.13   \n",
       "min           0.60     120.00        2.00      8.00               0.23   \n",
       "25%           1.90     360.00       21.00     98.00               0.42   \n",
       "50%           4.80     430.00       33.00    128.00               0.50   \n",
       "75%          10.00     520.00       45.00    162.00               0.58   \n",
       "max          65.80    2140.00      289.00    440.00               1.18   \n",
       "\n",
       "       bake time  quality  weight  chocolate   oats  peanut_butter  raisins  \\\n",
       "count     779.00   779.00  779.00     779.00 779.00         779.00   779.00   \n",
       "mean       10.61     7.73   14.02       0.70   0.19           0.01     0.29   \n",
       "std         1.23     0.86    2.27       0.46   0.39           0.08     0.46   \n",
       "min         8.50     4.00    9.40       0.00   0.00           0.00     0.00   \n",
       "25%         9.50     7.47   12.60       0.00   0.00           0.00     0.00   \n",
       "50%        10.50     7.88   13.60       1.00   0.00           0.00     0.00   \n",
       "75%        11.50     8.28   14.80       1.00   0.00           0.00     1.00   \n",
       "max        14.20    10.00   27.60       1.00   1.00           1.00     1.00   \n",
       "\n",
       "        nuts  butter type_melted  \n",
       "count 779.00              779.00  \n",
       "mean    0.15                0.91  \n",
       "std     0.36                0.29  \n",
       "min     0.00                0.00  \n",
       "25%     0.00                1.00  \n",
       "50%     0.00                1.00  \n",
       "75%     0.00                1.00  \n",
       "max     1.00                1.00  "
      ]
     },
     "execution_count": 126,
     "metadata": {},
     "output_type": "execute_result"
    }
   ],
   "source": [
    "cookies_val_fixed.describe()"
   ]
  },
  {
   "cell_type": "code",
   "execution_count": 127,
   "metadata": {
    "ExecuteTime": {
     "end_time": "2021-05-11T15:59:48.605868Z",
     "start_time": "2021-05-11T15:59:48.579238Z"
    }
   },
   "outputs": [],
   "source": [
    "cookies_val_fixed.to_csv(\"../data/ypred_2.csv\")"
   ]
  },
  {
   "cell_type": "code",
   "execution_count": 130,
   "metadata": {
    "ExecuteTime": {
     "end_time": "2021-05-11T16:39:28.307861Z",
     "start_time": "2021-05-11T16:27:49.352673Z"
    }
   },
   "outputs": [
    {
     "data": {
      "text/plain": [
       "GridSearchCV(cv=20, estimator=KNeighborsRegressor(),\n",
       "             param_grid={'algorithm': ('auto', 'ball_tree', 'kd_tree', 'brute'),\n",
       "                         'leaf_size': [30, 40, 50, 60],\n",
       "                         'metric': ('euclidean', 'minkowski'),\n",
       "                         'n_neighbors': [1, 2, 3, 4, 5, 6, 7, 8, 9, 10, 11, 12,\n",
       "                                         13, 14, 15, 16, 17, 18, 19, 20, 21, 22,\n",
       "                                         23, 24, 25, 26, 27, 28, 29, 30],\n",
       "                         'weights': ['uniform', 'distance']})"
      ]
     },
     "execution_count": 130,
     "metadata": {},
     "output_type": "execute_result"
    }
   ],
   "source": [
    "from sklearn.preprocessing import StandardScaler\n",
    "from sklearn.neighbors import KNeighborsRegressor\n",
    "scaler = StandardScaler()\n",
    "\n",
    "scaler.fit(X)\n",
    "\n",
    "X_scaled = scaler.transform(X)\n",
    "X_test_scaled = scaler.transform(x_test)\n",
    "\n",
    "clf = GridSearchCV(KNeighborsRegressor(),{'n_neighbors':list(range(1,31)),'weights':['uniform','distance'], \"algorithm\":('auto', 'ball_tree', 'kd_tree', 'brute'),'leaf_size':list(range(30,61,10)), \"metric\":('euclidean','minkowski')},cv=20)\n",
    "clf.fit(X_scaled,y)"
   ]
  },
  {
   "cell_type": "code",
   "execution_count": 132,
   "metadata": {
    "ExecuteTime": {
     "end_time": "2021-05-11T16:44:53.097229Z",
     "start_time": "2021-05-11T16:44:53.091772Z"
    }
   },
   "outputs": [
    {
     "data": {
      "text/plain": [
       "0.7673369740349353"
      ]
     },
     "execution_count": 132,
     "metadata": {},
     "output_type": "execute_result"
    }
   ],
   "source": [
    "clf.best_score_"
   ]
  },
  {
   "cell_type": "code",
   "execution_count": 133,
   "metadata": {
    "ExecuteTime": {
     "end_time": "2021-05-11T16:44:53.641997Z",
     "start_time": "2021-05-11T16:44:53.635823Z"
    }
   },
   "outputs": [
    {
     "data": {
      "text/plain": [
       "{'algorithm': 'auto',\n",
       " 'leaf_size': 30,\n",
       " 'metric': 'euclidean',\n",
       " 'n_neighbors': 30,\n",
       " 'weights': 'distance'}"
      ]
     },
     "execution_count": 133,
     "metadata": {},
     "output_type": "execute_result"
    }
   ],
   "source": [
    "clf.best_params_"
   ]
  },
  {
   "cell_type": "code",
   "execution_count": null,
   "metadata": {},
   "outputs": [],
   "source": []
  },
  {
   "cell_type": "code",
   "execution_count": null,
   "metadata": {},
   "outputs": [],
   "source": []
  },
  {
   "cell_type": "code",
   "execution_count": 137,
   "metadata": {
    "ExecuteTime": {
     "end_time": "2021-05-11T16:51:38.321189Z",
     "start_time": "2021-05-11T16:51:38.262212Z"
    }
   },
   "outputs": [],
   "source": [
    "ypred2 = clf.predict(X_test_scaled)"
   ]
  },
  {
   "cell_type": "code",
   "execution_count": 138,
   "metadata": {
    "ExecuteTime": {
     "end_time": "2021-05-11T16:51:39.610670Z",
     "start_time": "2021-05-11T16:51:39.606735Z"
    }
   },
   "outputs": [],
   "source": [
    "cookies_val_fixed['quality'] = list(ypred2)"
   ]
  },
  {
   "cell_type": "code",
   "execution_count": 139,
   "metadata": {
    "ExecuteTime": {
     "end_time": "2021-05-11T16:51:49.041789Z",
     "start_time": "2021-05-11T16:51:49.011276Z"
    }
   },
   "outputs": [
    {
     "data": {
      "text/html": [
       "<div>\n",
       "<style scoped>\n",
       "    .dataframe tbody tr th:only-of-type {\n",
       "        vertical-align: middle;\n",
       "    }\n",
       "\n",
       "    .dataframe tbody tr th {\n",
       "        vertical-align: top;\n",
       "    }\n",
       "\n",
       "    .dataframe thead th {\n",
       "        text-align: right;\n",
       "    }\n",
       "</style>\n",
       "<table border=\"1\" class=\"dataframe\">\n",
       "  <thead>\n",
       "    <tr style=\"text-align: right;\">\n",
       "      <th></th>\n",
       "      <th>sugar index</th>\n",
       "      <th>bake temp</th>\n",
       "      <th>chill time</th>\n",
       "      <th>calories</th>\n",
       "      <th>grams baking soda</th>\n",
       "      <th>bake time</th>\n",
       "      <th>quality</th>\n",
       "      <th>weight</th>\n",
       "      <th>chocolate</th>\n",
       "      <th>oats</th>\n",
       "      <th>peanut_butter</th>\n",
       "      <th>raisins</th>\n",
       "      <th>nuts</th>\n",
       "      <th>butter type_melted</th>\n",
       "    </tr>\n",
       "  </thead>\n",
       "  <tbody>\n",
       "    <tr>\n",
       "      <th>0</th>\n",
       "      <td>19.25</td>\n",
       "      <td>400.00</td>\n",
       "      <td>41.00</td>\n",
       "      <td>172.00</td>\n",
       "      <td>0.67</td>\n",
       "      <td>9.70</td>\n",
       "      <td>7.37</td>\n",
       "      <td>16.60</td>\n",
       "      <td>1</td>\n",
       "      <td>0</td>\n",
       "      <td>0</td>\n",
       "      <td>0</td>\n",
       "      <td>1</td>\n",
       "      <td>1</td>\n",
       "    </tr>\n",
       "    <tr>\n",
       "      <th>1</th>\n",
       "      <td>1.00</td>\n",
       "      <td>520.00</td>\n",
       "      <td>35.00</td>\n",
       "      <td>146.00</td>\n",
       "      <td>0.44</td>\n",
       "      <td>10.00</td>\n",
       "      <td>7.90</td>\n",
       "      <td>13.80</td>\n",
       "      <td>1</td>\n",
       "      <td>0</td>\n",
       "      <td>0</td>\n",
       "      <td>0</td>\n",
       "      <td>0</td>\n",
       "      <td>1</td>\n",
       "    </tr>\n",
       "    <tr>\n",
       "      <th>2</th>\n",
       "      <td>10.40</td>\n",
       "      <td>440.00</td>\n",
       "      <td>20.00</td>\n",
       "      <td>142.00</td>\n",
       "      <td>0.53</td>\n",
       "      <td>10.00</td>\n",
       "      <td>7.75</td>\n",
       "      <td>17.00</td>\n",
       "      <td>1</td>\n",
       "      <td>0</td>\n",
       "      <td>0</td>\n",
       "      <td>0</td>\n",
       "      <td>0</td>\n",
       "      <td>1</td>\n",
       "    </tr>\n",
       "    <tr>\n",
       "      <th>3</th>\n",
       "      <td>1.10</td>\n",
       "      <td>570.00</td>\n",
       "      <td>21.00</td>\n",
       "      <td>82.00</td>\n",
       "      <td>0.46</td>\n",
       "      <td>10.90</td>\n",
       "      <td>7.93</td>\n",
       "      <td>12.40</td>\n",
       "      <td>1</td>\n",
       "      <td>1</td>\n",
       "      <td>0</td>\n",
       "      <td>0</td>\n",
       "      <td>0</td>\n",
       "      <td>1</td>\n",
       "    </tr>\n",
       "    <tr>\n",
       "      <th>4</th>\n",
       "      <td>13.50</td>\n",
       "      <td>600.00</td>\n",
       "      <td>52.00</td>\n",
       "      <td>192.00</td>\n",
       "      <td>0.44</td>\n",
       "      <td>9.10</td>\n",
       "      <td>7.00</td>\n",
       "      <td>14.80</td>\n",
       "      <td>1</td>\n",
       "      <td>0</td>\n",
       "      <td>0</td>\n",
       "      <td>0</td>\n",
       "      <td>0</td>\n",
       "      <td>1</td>\n",
       "    </tr>\n",
       "    <tr>\n",
       "      <th>...</th>\n",
       "      <td>...</td>\n",
       "      <td>...</td>\n",
       "      <td>...</td>\n",
       "      <td>...</td>\n",
       "      <td>...</td>\n",
       "      <td>...</td>\n",
       "      <td>...</td>\n",
       "      <td>...</td>\n",
       "      <td>...</td>\n",
       "      <td>...</td>\n",
       "      <td>...</td>\n",
       "      <td>...</td>\n",
       "      <td>...</td>\n",
       "      <td>...</td>\n",
       "    </tr>\n",
       "    <tr>\n",
       "      <th>774</th>\n",
       "      <td>1.90</td>\n",
       "      <td>780.00</td>\n",
       "      <td>18.00</td>\n",
       "      <td>30.00</td>\n",
       "      <td>0.75</td>\n",
       "      <td>9.80</td>\n",
       "      <td>5.00</td>\n",
       "      <td>13.80</td>\n",
       "      <td>1</td>\n",
       "      <td>1</td>\n",
       "      <td>0</td>\n",
       "      <td>0</td>\n",
       "      <td>1</td>\n",
       "      <td>0</td>\n",
       "    </tr>\n",
       "    <tr>\n",
       "      <th>775</th>\n",
       "      <td>5.20</td>\n",
       "      <td>940.00</td>\n",
       "      <td>19.00</td>\n",
       "      <td>98.00</td>\n",
       "      <td>0.52</td>\n",
       "      <td>9.60</td>\n",
       "      <td>5.65</td>\n",
       "      <td>14.80</td>\n",
       "      <td>0</td>\n",
       "      <td>1</td>\n",
       "      <td>0</td>\n",
       "      <td>0</td>\n",
       "      <td>1</td>\n",
       "      <td>0</td>\n",
       "    </tr>\n",
       "    <tr>\n",
       "      <th>776</th>\n",
       "      <td>2.10</td>\n",
       "      <td>600.00</td>\n",
       "      <td>6.00</td>\n",
       "      <td>13.00</td>\n",
       "      <td>0.61</td>\n",
       "      <td>10.00</td>\n",
       "      <td>5.25</td>\n",
       "      <td>12.40</td>\n",
       "      <td>0</td>\n",
       "      <td>1</td>\n",
       "      <td>0</td>\n",
       "      <td>0</td>\n",
       "      <td>1</td>\n",
       "      <td>0</td>\n",
       "    </tr>\n",
       "    <tr>\n",
       "      <th>777</th>\n",
       "      <td>2.30</td>\n",
       "      <td>670.00</td>\n",
       "      <td>19.00</td>\n",
       "      <td>32.00</td>\n",
       "      <td>0.57</td>\n",
       "      <td>11.00</td>\n",
       "      <td>5.64</td>\n",
       "      <td>13.40</td>\n",
       "      <td>0</td>\n",
       "      <td>0</td>\n",
       "      <td>1</td>\n",
       "      <td>0</td>\n",
       "      <td>0</td>\n",
       "      <td>0</td>\n",
       "    </tr>\n",
       "    <tr>\n",
       "      <th>778</th>\n",
       "      <td>13.80</td>\n",
       "      <td>2050.00</td>\n",
       "      <td>48.00</td>\n",
       "      <td>82.00</td>\n",
       "      <td>0.75</td>\n",
       "      <td>8.80</td>\n",
       "      <td>5.34</td>\n",
       "      <td>19.80</td>\n",
       "      <td>0</td>\n",
       "      <td>0</td>\n",
       "      <td>0</td>\n",
       "      <td>1</td>\n",
       "      <td>1</td>\n",
       "      <td>0</td>\n",
       "    </tr>\n",
       "  </tbody>\n",
       "</table>\n",
       "<p>779 rows × 14 columns</p>\n",
       "</div>"
      ],
      "text/plain": [
       "     sugar index  bake temp  chill time  calories  grams baking soda  \\\n",
       "0          19.25     400.00       41.00    172.00               0.67   \n",
       "1           1.00     520.00       35.00    146.00               0.44   \n",
       "2          10.40     440.00       20.00    142.00               0.53   \n",
       "3           1.10     570.00       21.00     82.00               0.46   \n",
       "4          13.50     600.00       52.00    192.00               0.44   \n",
       "..           ...        ...         ...       ...                ...   \n",
       "774         1.90     780.00       18.00     30.00               0.75   \n",
       "775         5.20     940.00       19.00     98.00               0.52   \n",
       "776         2.10     600.00        6.00     13.00               0.61   \n",
       "777         2.30     670.00       19.00     32.00               0.57   \n",
       "778        13.80    2050.00       48.00     82.00               0.75   \n",
       "\n",
       "     bake time  quality  weight  chocolate  oats  peanut_butter  raisins  \\\n",
       "0         9.70     7.37   16.60          1     0              0        0   \n",
       "1        10.00     7.90   13.80          1     0              0        0   \n",
       "2        10.00     7.75   17.00          1     0              0        0   \n",
       "3        10.90     7.93   12.40          1     1              0        0   \n",
       "4         9.10     7.00   14.80          1     0              0        0   \n",
       "..         ...      ...     ...        ...   ...            ...      ...   \n",
       "774       9.80     5.00   13.80          1     1              0        0   \n",
       "775       9.60     5.65   14.80          0     1              0        0   \n",
       "776      10.00     5.25   12.40          0     1              0        0   \n",
       "777      11.00     5.64   13.40          0     0              1        0   \n",
       "778       8.80     5.34   19.80          0     0              0        1   \n",
       "\n",
       "     nuts  butter type_melted  \n",
       "0       1                   1  \n",
       "1       0                   1  \n",
       "2       0                   1  \n",
       "3       0                   1  \n",
       "4       0                   1  \n",
       "..    ...                 ...  \n",
       "774     1                   0  \n",
       "775     1                   0  \n",
       "776     1                   0  \n",
       "777     0                   0  \n",
       "778     1                   0  \n",
       "\n",
       "[779 rows x 14 columns]"
      ]
     },
     "execution_count": 139,
     "metadata": {},
     "output_type": "execute_result"
    }
   ],
   "source": [
    "cookies_val_fixed"
   ]
  },
  {
   "cell_type": "code",
   "execution_count": 140,
   "metadata": {
    "ExecuteTime": {
     "end_time": "2021-05-11T16:52:40.134417Z",
     "start_time": "2021-05-11T16:52:40.112127Z"
    }
   },
   "outputs": [],
   "source": [
    "cookies_val_fixed.to_csv(\"../data/ypred_3.csv\")"
   ]
  },
  {
   "cell_type": "code",
   "execution_count": 3,
   "metadata": {
    "ExecuteTime": {
     "end_time": "2021-05-12T07:10:35.838637Z",
     "start_time": "2021-05-12T07:10:35.698570Z"
    }
   },
   "outputs": [
    {
     "data": {
      "text/html": [
       "<div>\n",
       "<style scoped>\n",
       "    .dataframe tbody tr th:only-of-type {\n",
       "        vertical-align: middle;\n",
       "    }\n",
       "\n",
       "    .dataframe tbody tr th {\n",
       "        vertical-align: top;\n",
       "    }\n",
       "\n",
       "    .dataframe thead th {\n",
       "        text-align: right;\n",
       "    }\n",
       "</style>\n",
       "<table border=\"1\" class=\"dataframe\">\n",
       "  <thead>\n",
       "    <tr style=\"text-align: right;\">\n",
       "      <th></th>\n",
       "      <th>Unnamed: 0</th>\n",
       "      <th>sugar index</th>\n",
       "      <th>bake temp</th>\n",
       "      <th>chill time</th>\n",
       "      <th>calories</th>\n",
       "      <th>grams baking soda</th>\n",
       "      <th>bake time</th>\n",
       "      <th>quality</th>\n",
       "      <th>weight</th>\n",
       "      <th>chocolate</th>\n",
       "      <th>oats</th>\n",
       "      <th>peanut_butter</th>\n",
       "      <th>raisins</th>\n",
       "      <th>nuts</th>\n",
       "      <th>butter type_melted</th>\n",
       "    </tr>\n",
       "  </thead>\n",
       "  <tbody>\n",
       "    <tr>\n",
       "      <th>count</th>\n",
       "      <td>779.000000</td>\n",
       "      <td>779.000000</td>\n",
       "      <td>779.000000</td>\n",
       "      <td>779.000000</td>\n",
       "      <td>779.000000</td>\n",
       "      <td>779.000000</td>\n",
       "      <td>779.000000</td>\n",
       "      <td>779.000000</td>\n",
       "      <td>779.000000</td>\n",
       "      <td>779.000000</td>\n",
       "      <td>779.000000</td>\n",
       "      <td>779.000000</td>\n",
       "      <td>779.000000</td>\n",
       "      <td>779.000000</td>\n",
       "      <td>779.000000</td>\n",
       "    </tr>\n",
       "    <tr>\n",
       "      <th>mean</th>\n",
       "      <td>389.000000</td>\n",
       "      <td>6.384531</td>\n",
       "      <td>480.423620</td>\n",
       "      <td>34.296534</td>\n",
       "      <td>129.188062</td>\n",
       "      <td>0.513504</td>\n",
       "      <td>10.614925</td>\n",
       "      <td>7.730437</td>\n",
       "      <td>14.015404</td>\n",
       "      <td>0.695764</td>\n",
       "      <td>0.189987</td>\n",
       "      <td>0.006418</td>\n",
       "      <td>0.293967</td>\n",
       "      <td>0.154044</td>\n",
       "      <td>0.906290</td>\n",
       "    </tr>\n",
       "    <tr>\n",
       "      <th>std</th>\n",
       "      <td>225.022221</td>\n",
       "      <td>5.520385</td>\n",
       "      <td>225.928988</td>\n",
       "      <td>20.170179</td>\n",
       "      <td>50.679340</td>\n",
       "      <td>0.131211</td>\n",
       "      <td>1.234559</td>\n",
       "      <td>0.882853</td>\n",
       "      <td>2.269722</td>\n",
       "      <td>0.460379</td>\n",
       "      <td>0.392543</td>\n",
       "      <td>0.079909</td>\n",
       "      <td>0.455870</td>\n",
       "      <td>0.361223</td>\n",
       "      <td>0.291612</td>\n",
       "    </tr>\n",
       "    <tr>\n",
       "      <th>min</th>\n",
       "      <td>0.000000</td>\n",
       "      <td>0.600000</td>\n",
       "      <td>120.000000</td>\n",
       "      <td>2.000000</td>\n",
       "      <td>8.000000</td>\n",
       "      <td>0.230000</td>\n",
       "      <td>8.500000</td>\n",
       "      <td>5.000000</td>\n",
       "      <td>9.400000</td>\n",
       "      <td>0.000000</td>\n",
       "      <td>0.000000</td>\n",
       "      <td>0.000000</td>\n",
       "      <td>0.000000</td>\n",
       "      <td>0.000000</td>\n",
       "      <td>0.000000</td>\n",
       "    </tr>\n",
       "    <tr>\n",
       "      <th>25%</th>\n",
       "      <td>194.500000</td>\n",
       "      <td>1.900000</td>\n",
       "      <td>360.000000</td>\n",
       "      <td>21.000000</td>\n",
       "      <td>98.000000</td>\n",
       "      <td>0.420000</td>\n",
       "      <td>9.500000</td>\n",
       "      <td>7.328164</td>\n",
       "      <td>12.600000</td>\n",
       "      <td>0.000000</td>\n",
       "      <td>0.000000</td>\n",
       "      <td>0.000000</td>\n",
       "      <td>0.000000</td>\n",
       "      <td>0.000000</td>\n",
       "      <td>1.000000</td>\n",
       "    </tr>\n",
       "    <tr>\n",
       "      <th>50%</th>\n",
       "      <td>389.000000</td>\n",
       "      <td>4.800000</td>\n",
       "      <td>430.000000</td>\n",
       "      <td>33.000000</td>\n",
       "      <td>128.000000</td>\n",
       "      <td>0.500000</td>\n",
       "      <td>10.500000</td>\n",
       "      <td>7.915821</td>\n",
       "      <td>13.600000</td>\n",
       "      <td>1.000000</td>\n",
       "      <td>0.000000</td>\n",
       "      <td>0.000000</td>\n",
       "      <td>0.000000</td>\n",
       "      <td>0.000000</td>\n",
       "      <td>1.000000</td>\n",
       "    </tr>\n",
       "    <tr>\n",
       "      <th>75%</th>\n",
       "      <td>583.500000</td>\n",
       "      <td>10.000000</td>\n",
       "      <td>520.000000</td>\n",
       "      <td>45.000000</td>\n",
       "      <td>162.000000</td>\n",
       "      <td>0.580000</td>\n",
       "      <td>11.500000</td>\n",
       "      <td>8.223257</td>\n",
       "      <td>14.800000</td>\n",
       "      <td>1.000000</td>\n",
       "      <td>0.000000</td>\n",
       "      <td>0.000000</td>\n",
       "      <td>1.000000</td>\n",
       "      <td>0.000000</td>\n",
       "      <td>1.000000</td>\n",
       "    </tr>\n",
       "    <tr>\n",
       "      <th>max</th>\n",
       "      <td>778.000000</td>\n",
       "      <td>65.800000</td>\n",
       "      <td>2140.000000</td>\n",
       "      <td>289.000000</td>\n",
       "      <td>440.000000</td>\n",
       "      <td>1.180000</td>\n",
       "      <td>14.200000</td>\n",
       "      <td>10.000000</td>\n",
       "      <td>27.600000</td>\n",
       "      <td>1.000000</td>\n",
       "      <td>1.000000</td>\n",
       "      <td>1.000000</td>\n",
       "      <td>1.000000</td>\n",
       "      <td>1.000000</td>\n",
       "      <td>1.000000</td>\n",
       "    </tr>\n",
       "  </tbody>\n",
       "</table>\n",
       "</div>"
      ],
      "text/plain": [
       "       Unnamed: 0  sugar index    bake temp  chill time    calories  \\\n",
       "count  779.000000   779.000000   779.000000  779.000000  779.000000   \n",
       "mean   389.000000     6.384531   480.423620   34.296534  129.188062   \n",
       "std    225.022221     5.520385   225.928988   20.170179   50.679340   \n",
       "min      0.000000     0.600000   120.000000    2.000000    8.000000   \n",
       "25%    194.500000     1.900000   360.000000   21.000000   98.000000   \n",
       "50%    389.000000     4.800000   430.000000   33.000000  128.000000   \n",
       "75%    583.500000    10.000000   520.000000   45.000000  162.000000   \n",
       "max    778.000000    65.800000  2140.000000  289.000000  440.000000   \n",
       "\n",
       "       grams baking soda   bake time     quality      weight   chocolate  \\\n",
       "count         779.000000  779.000000  779.000000  779.000000  779.000000   \n",
       "mean            0.513504   10.614925    7.730437   14.015404    0.695764   \n",
       "std             0.131211    1.234559    0.882853    2.269722    0.460379   \n",
       "min             0.230000    8.500000    5.000000    9.400000    0.000000   \n",
       "25%             0.420000    9.500000    7.328164   12.600000    0.000000   \n",
       "50%             0.500000   10.500000    7.915821   13.600000    1.000000   \n",
       "75%             0.580000   11.500000    8.223257   14.800000    1.000000   \n",
       "max             1.180000   14.200000   10.000000   27.600000    1.000000   \n",
       "\n",
       "             oats  peanut_butter     raisins        nuts  butter type_melted  \n",
       "count  779.000000     779.000000  779.000000  779.000000          779.000000  \n",
       "mean     0.189987       0.006418    0.293967    0.154044            0.906290  \n",
       "std      0.392543       0.079909    0.455870    0.361223            0.291612  \n",
       "min      0.000000       0.000000    0.000000    0.000000            0.000000  \n",
       "25%      0.000000       0.000000    0.000000    0.000000            1.000000  \n",
       "50%      0.000000       0.000000    0.000000    0.000000            1.000000  \n",
       "75%      0.000000       0.000000    1.000000    0.000000            1.000000  \n",
       "max      1.000000       1.000000    1.000000    1.000000            1.000000  "
      ]
     },
     "execution_count": 3,
     "metadata": {},
     "output_type": "execute_result"
    }
   ],
   "source": [
    "pd.read_csv(\"../data/ypred_3.csv\").describe()"
   ]
  },
  {
   "cell_type": "code",
   "execution_count": null,
   "metadata": {},
   "outputs": [],
   "source": []
  }
 ],
 "metadata": {
  "kernelspec": {
   "display_name": "Python 3",
   "language": "python",
   "name": "python3"
  },
  "language_info": {
   "codemirror_mode": {
    "name": "ipython",
    "version": 3
   },
   "file_extension": ".py",
   "mimetype": "text/x-python",
   "name": "python",
   "nbconvert_exporter": "python",
   "pygments_lexer": "ipython3",
   "version": "3.8.5"
  },
  "toc": {
   "base_numbering": 1,
   "nav_menu": {},
   "number_sections": true,
   "sideBar": true,
   "skip_h1_title": false,
   "title_cell": "Table of Contents",
   "title_sidebar": "Contents",
   "toc_cell": true,
   "toc_position": {},
   "toc_section_display": true,
   "toc_window_display": false
  },
  "varInspector": {
   "cols": {
    "lenName": 16,
    "lenType": 16,
    "lenVar": 40
   },
   "kernels_config": {
    "python": {
     "delete_cmd_postfix": "",
     "delete_cmd_prefix": "del ",
     "library": "var_list.py",
     "varRefreshCmd": "print(var_dic_list())"
    },
    "r": {
     "delete_cmd_postfix": ") ",
     "delete_cmd_prefix": "rm(",
     "library": "var_list.r",
     "varRefreshCmd": "cat(var_dic_list()) "
    }
   },
   "types_to_exclude": [
    "module",
    "function",
    "builtin_function_or_method",
    "instance",
    "_Feature"
   ],
   "window_display": false
  }
 },
 "nbformat": 4,
 "nbformat_minor": 4
}
